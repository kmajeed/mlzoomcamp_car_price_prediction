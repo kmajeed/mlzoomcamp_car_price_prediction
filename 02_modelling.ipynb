{
 "cells": [
  {
   "cell_type": "markdown",
   "id": "a226d720-05ec-4e63-98fe-d3bd4030f3f0",
   "metadata": {},
   "source": [
    "# Modelling\n",
    "\n",
    "This notebook will implement various models to find best model for predicting price of used casr in our dataset"
   ]
  },
  {
   "cell_type": "code",
   "execution_count": 1,
   "id": "6edf4ad7-9a7d-4c4c-b3fe-74a2db9f693d",
   "metadata": {},
   "outputs": [],
   "source": [
    "# Library imports\n",
    "import pandas as pd\n",
    "import numpy as np\n",
    "import joblib\n",
    "import pickle\n",
    "import random\n",
    "import os\n",
    "\n",
    "from scipy import stats\n",
    "from sklearn.model_selection import train_test_split\n",
    "from sklearn.preprocessing import OneHotEncoder, PowerTransformer\n",
    "from sklearn.compose import ColumnTransformer\n",
    "from sklearn.pipeline import Pipeline\n",
    "from sklearn.tree import DecisionTreeRegressor\n",
    "from sklearn.ensemble import BaggingRegressor, RandomForestRegressor\n",
    "#from sklearn.linear_model import LinearRegression\n",
    "from sklearn.metrics import mean_squared_error\n",
    "from sklearn.model_selection import GridSearchCV\n",
    "from sklearn.metrics import mean_squared_error, r2_score, mean_absolute_error\n",
    "import matplotlib.pyplot as plt\n",
    "import seaborn as sns\n",
    "from joblib import dump, load\n",
    "\n",
    "\n",
    "# Disabling warnings:\n",
    "import warnings\n",
    "warnings.filterwarnings('ignore') "
   ]
  },
  {
   "cell_type": "code",
   "execution_count": 2,
   "id": "812fe9e4-6885-4a6b-8b24-b6ef380dd3dd",
   "metadata": {},
   "outputs": [],
   "source": [
    "# Seeding:\n",
    "def seed_all(seed):\n",
    "    \n",
    "    ''' A function to seed everything for getting stable results and reproducibility'''\n",
    "    random.seed(seed)\n",
    "    np.random.seed(seed)\n",
    "    os.environ['PYTHONHASHSEED'] = str(seed)\n",
    "\n",
    "seed = 786    \n",
    "seed_all(seed)"
   ]
  },
  {
   "cell_type": "markdown",
   "id": "213f4dba-07dd-4ea5-a7bb-0ca44f97ea92",
   "metadata": {},
   "source": [
    "## load and pre process data"
   ]
  },
  {
   "cell_type": "code",
   "execution_count": 3,
   "id": "af6e68e6-7093-48d7-bfcc-91657c5f6284",
   "metadata": {},
   "outputs": [],
   "source": [
    "# read the data from local file that i had already downloaded from Kaggle\n",
    "data = pd.read_csv('bmw.csv')\n",
    "\n",
    "# Transform value of categorical columns to remove any white spaces spaces\n",
    "data['model'] = data['model'].apply(lambda x : x.strip().replace(' ', '_'))\n",
    "\n",
    "# Merge Other and Electric\n",
    "data['fuelType'] = data['fuelType'].replace({'Electric':'Other'})\n",
    "# Construct new feature named age from year by subtracting year from 2022.\n",
    "data['age'] = 2022 - data['year']\n",
    "#remove the year as we have encode that value into age \n",
    "del data['year']\n",
    "\n",
    "# get index of car to remove\n",
    "idx_to_remove = data[data.price==123456].index\n",
    "# drop the car\n",
    "data.drop(idx_to_remove, inplace= True)\n",
    "# reset index as we have removed some rows\n",
    "data.reset_index(inplace=True, drop=True)"
   ]
  },
  {
   "cell_type": "code",
   "execution_count": 4,
   "id": "8024df72-ba2c-4ab6-94d9-16399b5fc358",
   "metadata": {},
   "outputs": [],
   "source": [
    "# Apply One Hot Encoder for categorical variables and PowerTransformer for numerical features\n",
    "categorical_features = ['model', 'transmission', 'fuelType']\n",
    "numerical_features = ['mileage', 'mpg', 'engineSize', 'age']\n",
    "\n",
    "preprocessor = ColumnTransformer(\n",
    "    transformers=[\n",
    "        ('num', PowerTransformer(method='yeo-johnson'), numerical_features),\n",
    "        ('cat', OneHotEncoder(sparse_output=False,handle_unknown='ignore'), categorical_features)\n",
    "    ])"
   ]
  },
  {
   "cell_type": "code",
   "execution_count": 5,
   "id": "1a4db3d7-2934-4357-a508-60abd5fa0f12",
   "metadata": {},
   "outputs": [],
   "source": [
    "# Split the data for training and testing and use seed= 786 keep results reproducible\n",
    "X = data.drop('price', axis=1)\n",
    "y = data['price']\n",
    "\n",
    "X_train, X_test, y_train, y_test = train_test_split(X, y, test_size=0.2, random_state=786)"
   ]
  },
  {
   "cell_type": "code",
   "execution_count": 7,
   "id": "7ebe0b61-70d5-4fae-98cb-c36108ae48d0",
   "metadata": {},
   "outputs": [],
   "source": [
    "X_train_processed = preprocessor.fit_transform(X_train)\n",
    "X_test_processed = preprocessor.transform(X_test)"
   ]
  },
  {
   "cell_type": "code",
   "execution_count": 19,
   "id": "d7324b47-4559-4ddd-8dcb-5f44ad84c15f",
   "metadata": {},
   "outputs": [
    {
     "name": "stdout",
     "output_type": "stream",
     "text": [
      "data is  (10780, 9)\n",
      "X is  (10780, 8)\n",
      "X_train is  (8624, 8)\n",
      "y_train is  (8624,)\n",
      "X_test is  (2156, 8)\n",
      "y_test is  (2156,)\n",
      "\n",
      "---After Preprocessing--\n",
      "\n",
      "X_train is  (8624, 35)\n",
      "X_test is  (2156, 35)\n"
     ]
    }
   ],
   "source": [
    "print(\"data is \",data.shape)\n",
    "print(\"X is \",X.shape)\n",
    "print(\"X_train is \",X_train.shape)\n",
    "print(\"y_train is \",y_train.shape)\n",
    "print(\"X_test is \",X_test.shape)\n",
    "print(\"y_test is \",y_test.shape)\n",
    "print(\"\\n---After Preprocessing--\\n\")\n",
    "print(\"X_train is \",X_train_processed.shape)\n",
    "print(\"X_test is \",X_test_processed.shape)"
   ]
  },
  {
   "cell_type": "code",
   "execution_count": 8,
   "id": "d178bbc6-98ce-4d4b-aff0-a177c2767e0c",
   "metadata": {},
   "outputs": [
    {
     "data": {
      "text/plain": [
       "array(['num__mileage', 'num__mpg', 'num__engineSize', 'num__age',\n",
       "       'cat__model_1_Series', 'cat__model_2_Series',\n",
       "       'cat__model_3_Series', 'cat__model_4_Series',\n",
       "       'cat__model_5_Series', 'cat__model_6_Series',\n",
       "       'cat__model_7_Series', 'cat__model_8_Series', 'cat__model_M2',\n",
       "       'cat__model_M3', 'cat__model_M4', 'cat__model_M5', 'cat__model_M6',\n",
       "       'cat__model_X1', 'cat__model_X2', 'cat__model_X3', 'cat__model_X4',\n",
       "       'cat__model_X5', 'cat__model_X6', 'cat__model_X7', 'cat__model_Z3',\n",
       "       'cat__model_Z4', 'cat__model_i3', 'cat__model_i8',\n",
       "       'cat__transmission_Automatic', 'cat__transmission_Manual',\n",
       "       'cat__transmission_Semi-Auto', 'cat__fuelType_Diesel',\n",
       "       'cat__fuelType_Hybrid', 'cat__fuelType_Other',\n",
       "       'cat__fuelType_Petrol'], dtype=object)"
      ]
     },
     "execution_count": 8,
     "metadata": {},
     "output_type": "execute_result"
    }
   ],
   "source": [
    "# What do the features look like\n",
    "preprocessor.get_feature_names_out()"
   ]
  },
  {
   "cell_type": "markdown",
   "id": "dbb9f540-1a38-4009-907e-46d0da5ae94d",
   "metadata": {},
   "source": [
    "## Apply Models with Hyperparameter tuning"
   ]
  },
  {
   "cell_type": "markdown",
   "id": "ef6d88e2-4db2-4902-a122-f3db45ce9429",
   "metadata": {},
   "source": [
    "We are testing following three model using GridSeachCV to detrmine best model\n",
    "\n",
    "1. DecisionTreeRegressor\n",
    "2. BaggingRegressor\n",
    "3. RandomForestRegressor\n",
    "\n",
    "Note: The criterion to choose best model will be based on R2 metric\n",
    "\n",
    "https://scikit-learn.org/stable/modules/model_evaluation.html#scoring-parameter\n",
    "\n",
    "https://insidelearningmachines.com/tune_hyperparameters_in_decision_trees/#Regression-3"
   ]
  },
  {
   "cell_type": "code",
   "execution_count": 14,
   "id": "cdb08760-f3bc-4c7d-9c0f-c07c152c3149",
   "metadata": {},
   "outputs": [
    {
     "name": "stdout",
     "output_type": "stream",
     "text": [
      "                    Model Best Params           MSE        R2          MAE\n",
      "0   DecisionTreeRegressor     poisson  3.150054e+07  0.759436  4007.284149\n",
      "1   DecisionTreeRegressor           4  3.150054e+07  0.759436  4007.284149\n",
      "2   DecisionTreeRegressor           8  3.150054e+07  0.759436  4007.284149\n",
      "3   DecisionTreeRegressor           2  3.150054e+07  0.759436  4007.284149\n",
      "4        BaggingRegressor         1.0  5.209281e+06  0.960218  1505.883353\n",
      "5        BaggingRegressor         0.7  5.209281e+06  0.960218  1505.883353\n",
      "6        BaggingRegressor        50.0  5.209281e+06  0.960218  1505.883353\n",
      "7   RandomForestRegressor     poisson  1.315890e+07  0.899508  2535.768768\n",
      "8   RandomForestRegressor           8  1.315890e+07  0.899508  2535.768768\n",
      "9   RandomForestRegressor        sqrt  1.315890e+07  0.899508  2535.768768\n",
      "10  RandomForestRegressor         100  1.315890e+07  0.899508  2535.768768\n"
     ]
    }
   ],
   "source": [
    "# Define models\n",
    "models = [\n",
    "    DecisionTreeRegressor(random_state=786),\n",
    "    BaggingRegressor(random_state=786, n_jobs=-1),\n",
    "    RandomForestRegressor(random_state=786, n_jobs=-1)\n",
    "]\n",
    "\n",
    "# Define hyperparameters\n",
    "params = [\n",
    "    {'criterion': ['squared_error', 'friedman_mse', 'poisson'], 'max_depth': [2, 4, 6, 8], 'min_samples_split': [2, 4, 6, 8], 'max_leaf_nodes': [2, 4, 6, 8]},\n",
    "    {'n_estimators': [50, 100,150, 200], 'max_samples': [0.5, 0.7, 1.0], 'max_features': [0.5, 0.7, 1.0]},\n",
    "    {'n_estimators': [50, 100,150, 200], 'max_features': ['auto', 'sqrt', 'log2'], 'max_depth': [2, 4, 6, 8], 'criterion': ['squared_error', 'poisson', 'friedman_mse']}\n",
    "]\n",
    "\n",
    "# Initialize dataframe to store results\n",
    "results_df = pd.DataFrame(columns=['Model', 'Best Params', 'MSE', 'R2', 'MAE'])\n",
    "\n",
    "# Iterate over models\n",
    "for model, param in zip(models, params):\n",
    "    # Perform grid search\n",
    "    grid_search = GridSearchCV(model, param, cv=5, scoring='r2')\n",
    "    grid_search.fit(X_train_processed, y_train)\n",
    "\n",
    "    # Get best model\n",
    "    best_model = grid_search.best_estimator_\n",
    "\n",
    "    # Predict on test set\n",
    "    y_pred = best_model.predict(X_test_processed)\n",
    "\n",
    "    # Calculate metrics\n",
    "    mse = mean_squared_error(y_test, y_pred)\n",
    "    r2 = r2_score(y_test, y_pred)\n",
    "    mae = mean_absolute_error(y_test, y_pred)\n",
    "\n",
    "    # Append results to dataframe\n",
    "    result = {'Model': type(model).__name__, 'Best Params': grid_search.best_params_, 'MSE': mse, 'R2': r2, 'MAE': mae}\n",
    "    print(result)\n",
    "    results_df = pd.concat([results_df, pd.DataFrame(result)], ignore_index=True)\n",
    "    #results_df = results_df.append({'Model': type(model).__name__, 'Best Params': grid_search.best_params_, 'MSE': mse, 'R2': r2, 'MAE': mae}, ignore_index=True)\n",
    "\n",
    "    # Save best model\n",
    "    joblib.dump(best_model, f'{type(model).__name__}_model.pkl')\n",
    "\n",
    "# Print results\n",
    "#print(results_df)"
   ]
  },
  {
   "cell_type": "code",
   "execution_count": 21,
   "id": "a7e69313-e9b2-41fd-9650-449edc643c04",
   "metadata": {},
   "outputs": [
    {
     "data": {
      "text/html": [
       "<style type=\"text/css\">\n",
       "#T_46cb9_row4_col3, #T_46cb9_row5_col3, #T_46cb9_row6_col3 {\n",
       "  background-color: yellow;\n",
       "}\n",
       "</style>\n",
       "<table id=\"T_46cb9\">\n",
       "  <thead>\n",
       "    <tr>\n",
       "      <th class=\"blank level0\" >&nbsp;</th>\n",
       "      <th id=\"T_46cb9_level0_col0\" class=\"col_heading level0 col0\" >Model</th>\n",
       "      <th id=\"T_46cb9_level0_col1\" class=\"col_heading level0 col1\" >Best Params</th>\n",
       "      <th id=\"T_46cb9_level0_col2\" class=\"col_heading level0 col2\" >MSE</th>\n",
       "      <th id=\"T_46cb9_level0_col3\" class=\"col_heading level0 col3\" >R2</th>\n",
       "      <th id=\"T_46cb9_level0_col4\" class=\"col_heading level0 col4\" >MAE</th>\n",
       "    </tr>\n",
       "  </thead>\n",
       "  <tbody>\n",
       "    <tr>\n",
       "      <th id=\"T_46cb9_level0_row0\" class=\"row_heading level0 row0\" >0</th>\n",
       "      <td id=\"T_46cb9_row0_col0\" class=\"data row0 col0\" >DecisionTreeRegressor</td>\n",
       "      <td id=\"T_46cb9_row0_col1\" class=\"data row0 col1\" >poisson</td>\n",
       "      <td id=\"T_46cb9_row0_col2\" class=\"data row0 col2\" >31500543.075444</td>\n",
       "      <td id=\"T_46cb9_row0_col3\" class=\"data row0 col3\" >0.759436</td>\n",
       "      <td id=\"T_46cb9_row0_col4\" class=\"data row0 col4\" >4007.284149</td>\n",
       "    </tr>\n",
       "    <tr>\n",
       "      <th id=\"T_46cb9_level0_row1\" class=\"row_heading level0 row1\" >1</th>\n",
       "      <td id=\"T_46cb9_row1_col0\" class=\"data row1 col0\" >DecisionTreeRegressor</td>\n",
       "      <td id=\"T_46cb9_row1_col1\" class=\"data row1 col1\" >4</td>\n",
       "      <td id=\"T_46cb9_row1_col2\" class=\"data row1 col2\" >31500543.075444</td>\n",
       "      <td id=\"T_46cb9_row1_col3\" class=\"data row1 col3\" >0.759436</td>\n",
       "      <td id=\"T_46cb9_row1_col4\" class=\"data row1 col4\" >4007.284149</td>\n",
       "    </tr>\n",
       "    <tr>\n",
       "      <th id=\"T_46cb9_level0_row2\" class=\"row_heading level0 row2\" >2</th>\n",
       "      <td id=\"T_46cb9_row2_col0\" class=\"data row2 col0\" >DecisionTreeRegressor</td>\n",
       "      <td id=\"T_46cb9_row2_col1\" class=\"data row2 col1\" >8</td>\n",
       "      <td id=\"T_46cb9_row2_col2\" class=\"data row2 col2\" >31500543.075444</td>\n",
       "      <td id=\"T_46cb9_row2_col3\" class=\"data row2 col3\" >0.759436</td>\n",
       "      <td id=\"T_46cb9_row2_col4\" class=\"data row2 col4\" >4007.284149</td>\n",
       "    </tr>\n",
       "    <tr>\n",
       "      <th id=\"T_46cb9_level0_row3\" class=\"row_heading level0 row3\" >3</th>\n",
       "      <td id=\"T_46cb9_row3_col0\" class=\"data row3 col0\" >DecisionTreeRegressor</td>\n",
       "      <td id=\"T_46cb9_row3_col1\" class=\"data row3 col1\" >2</td>\n",
       "      <td id=\"T_46cb9_row3_col2\" class=\"data row3 col2\" >31500543.075444</td>\n",
       "      <td id=\"T_46cb9_row3_col3\" class=\"data row3 col3\" >0.759436</td>\n",
       "      <td id=\"T_46cb9_row3_col4\" class=\"data row3 col4\" >4007.284149</td>\n",
       "    </tr>\n",
       "    <tr>\n",
       "      <th id=\"T_46cb9_level0_row4\" class=\"row_heading level0 row4\" >4</th>\n",
       "      <td id=\"T_46cb9_row4_col0\" class=\"data row4 col0\" >BaggingRegressor</td>\n",
       "      <td id=\"T_46cb9_row4_col1\" class=\"data row4 col1\" >1.000000</td>\n",
       "      <td id=\"T_46cb9_row4_col2\" class=\"data row4 col2\" >5209281.118136</td>\n",
       "      <td id=\"T_46cb9_row4_col3\" class=\"data row4 col3\" >0.960218</td>\n",
       "      <td id=\"T_46cb9_row4_col4\" class=\"data row4 col4\" >1505.883353</td>\n",
       "    </tr>\n",
       "    <tr>\n",
       "      <th id=\"T_46cb9_level0_row5\" class=\"row_heading level0 row5\" >5</th>\n",
       "      <td id=\"T_46cb9_row5_col0\" class=\"data row5 col0\" >BaggingRegressor</td>\n",
       "      <td id=\"T_46cb9_row5_col1\" class=\"data row5 col1\" >0.700000</td>\n",
       "      <td id=\"T_46cb9_row5_col2\" class=\"data row5 col2\" >5209281.118136</td>\n",
       "      <td id=\"T_46cb9_row5_col3\" class=\"data row5 col3\" >0.960218</td>\n",
       "      <td id=\"T_46cb9_row5_col4\" class=\"data row5 col4\" >1505.883353</td>\n",
       "    </tr>\n",
       "    <tr>\n",
       "      <th id=\"T_46cb9_level0_row6\" class=\"row_heading level0 row6\" >6</th>\n",
       "      <td id=\"T_46cb9_row6_col0\" class=\"data row6 col0\" >BaggingRegressor</td>\n",
       "      <td id=\"T_46cb9_row6_col1\" class=\"data row6 col1\" >50.000000</td>\n",
       "      <td id=\"T_46cb9_row6_col2\" class=\"data row6 col2\" >5209281.118136</td>\n",
       "      <td id=\"T_46cb9_row6_col3\" class=\"data row6 col3\" >0.960218</td>\n",
       "      <td id=\"T_46cb9_row6_col4\" class=\"data row6 col4\" >1505.883353</td>\n",
       "    </tr>\n",
       "    <tr>\n",
       "      <th id=\"T_46cb9_level0_row7\" class=\"row_heading level0 row7\" >7</th>\n",
       "      <td id=\"T_46cb9_row7_col0\" class=\"data row7 col0\" >RandomForestRegressor</td>\n",
       "      <td id=\"T_46cb9_row7_col1\" class=\"data row7 col1\" >poisson</td>\n",
       "      <td id=\"T_46cb9_row7_col2\" class=\"data row7 col2\" >13158904.960952</td>\n",
       "      <td id=\"T_46cb9_row7_col3\" class=\"data row7 col3\" >0.899508</td>\n",
       "      <td id=\"T_46cb9_row7_col4\" class=\"data row7 col4\" >2535.768768</td>\n",
       "    </tr>\n",
       "    <tr>\n",
       "      <th id=\"T_46cb9_level0_row8\" class=\"row_heading level0 row8\" >8</th>\n",
       "      <td id=\"T_46cb9_row8_col0\" class=\"data row8 col0\" >RandomForestRegressor</td>\n",
       "      <td id=\"T_46cb9_row8_col1\" class=\"data row8 col1\" >8</td>\n",
       "      <td id=\"T_46cb9_row8_col2\" class=\"data row8 col2\" >13158904.960952</td>\n",
       "      <td id=\"T_46cb9_row8_col3\" class=\"data row8 col3\" >0.899508</td>\n",
       "      <td id=\"T_46cb9_row8_col4\" class=\"data row8 col4\" >2535.768768</td>\n",
       "    </tr>\n",
       "    <tr>\n",
       "      <th id=\"T_46cb9_level0_row9\" class=\"row_heading level0 row9\" >9</th>\n",
       "      <td id=\"T_46cb9_row9_col0\" class=\"data row9 col0\" >RandomForestRegressor</td>\n",
       "      <td id=\"T_46cb9_row9_col1\" class=\"data row9 col1\" >sqrt</td>\n",
       "      <td id=\"T_46cb9_row9_col2\" class=\"data row9 col2\" >13158904.960952</td>\n",
       "      <td id=\"T_46cb9_row9_col3\" class=\"data row9 col3\" >0.899508</td>\n",
       "      <td id=\"T_46cb9_row9_col4\" class=\"data row9 col4\" >2535.768768</td>\n",
       "    </tr>\n",
       "    <tr>\n",
       "      <th id=\"T_46cb9_level0_row10\" class=\"row_heading level0 row10\" >10</th>\n",
       "      <td id=\"T_46cb9_row10_col0\" class=\"data row10 col0\" >RandomForestRegressor</td>\n",
       "      <td id=\"T_46cb9_row10_col1\" class=\"data row10 col1\" >100</td>\n",
       "      <td id=\"T_46cb9_row10_col2\" class=\"data row10 col2\" >13158904.960952</td>\n",
       "      <td id=\"T_46cb9_row10_col3\" class=\"data row10 col3\" >0.899508</td>\n",
       "      <td id=\"T_46cb9_row10_col4\" class=\"data row10 col4\" >2535.768768</td>\n",
       "    </tr>\n",
       "  </tbody>\n",
       "</table>\n"
      ],
      "text/plain": [
       "<pandas.io.formats.style.Styler at 0x7f942a582790>"
      ]
     },
     "execution_count": 21,
     "metadata": {},
     "output_type": "execute_result"
    }
   ],
   "source": [
    "results_df.style.highlight_max(subset=[\"R2\"], axis=0)"
   ]
  },
  {
   "cell_type": "markdown",
   "id": "c53914dc-c61d-4bb8-8e8e-6cef8d5afe50",
   "metadata": {},
   "source": [
    "## Conclusion"
   ]
  },
  {
   "cell_type": "markdown",
   "id": "fc24aa77-8875-4eda-947f-eeac4c8af2fa",
   "metadata": {},
   "source": [
    "After looking at the table above we can infer that BaggingRegressor is the best model so we will use it for predictions\n",
    "\n",
    "The parameters we will use are : {'max_features': 1.0, 'max_samples': 0.7, 'n_estimators': 50}"
   ]
  },
  {
   "cell_type": "markdown",
   "id": "b31c31e6",
   "metadata": {},
   "source": []
  }
 ],
 "metadata": {
  "kernelspec": {
   "display_name": "Python 3 (ipykernel)",
   "language": "python",
   "name": "python3"
  },
  "language_info": {
   "codemirror_mode": {
    "name": "ipython",
    "version": 3
   },
   "file_extension": ".py",
   "mimetype": "text/x-python",
   "name": "python",
   "nbconvert_exporter": "python",
   "pygments_lexer": "ipython3",
   "version": "3.11.5"
  }
 },
 "nbformat": 4,
 "nbformat_minor": 5
}
